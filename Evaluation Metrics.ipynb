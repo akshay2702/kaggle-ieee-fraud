{
 "cells": [
  {
   "cell_type": "code",
   "execution_count": null,
   "metadata": {},
   "outputs": [],
   "source": [
    "#Defining the classification model\n",
    "lgb = LGBMClassifier()\n",
    "lgb.fit(X_train_res, y_train_res)"
   ]
  },
  {
   "cell_type": "code",
   "execution_count": null,
   "metadata": {},
   "outputs": [],
   "source": [
    "#Finding the predicted probability of the target variable\n",
    "Y_predict_proba=lgb.predict_proba(X_test)[:,1]"
   ]
  },
  {
   "cell_type": "code",
   "execution_count": null,
   "metadata": {},
   "outputs": [],
   "source": [
    "def threshold_evaluation(Y_prob,threshold=0):\n",
    " \n",
    "    '''\n",
    "    \n",
    "    Y_prob : the predicted probablity value of the target variable\n",
    "    \n",
    "    threshold : the cut-off probablity value for classifying the predicted value as 0 or 1.By default the threshold \n",
    "    takes the list.\n",
    "    \n",
    "    return : returns the Dataframe of evaluation metrices as the output\n",
    "    \n",
    "    '''\n",
    "    threshold_list=np.linspace(start = 0, stop = 1, num = 11)\n",
    "    \n",
    "    if threshold!=0:\n",
    "        threshold_list=[]\n",
    "        threshold_list.append(threshold)\n",
    "    \n",
    "    result=[]\n",
    "    \n",
    "     # converting the predicted value into binary class based on a threshold value\n",
    "        \n",
    "    for j in threshold_list:\n",
    "        \n",
    "        Y_predict=[]\n",
    "         \n",
    "        for i in Y_prob:\n",
    "            \n",
    "            if i >= j:\n",
    "                    \n",
    "                Y_predict.append(1)\n",
    "                \n",
    "            else:\n",
    "                    \n",
    "                Y_predict.append(0)\n",
    "        \n",
    "        \n",
    "        y_predict=pd.Series(Y_predict)\n",
    "\n",
    "    # Calculating the evaluation metrics\n",
    "\n",
    "        tn, fp, fn, tp = confusion_matrix(y_test,y_predict).ravel()\n",
    "\n",
    "        \n",
    "        recall = tp / (tp + fn)\n",
    "        \n",
    "        if tp == fp == 0:\n",
    "        \n",
    "            precision = 0\n",
    "        \n",
    "            true_positive_rate = 0\n",
    "        \n",
    "        else:\n",
    "        \n",
    "            precision = tp / (tp + fp)\n",
    "            \n",
    "            true_positive_rate = tp / (tp + fn)\n",
    "            \n",
    "        if precision == recall == 0:\n",
    "        \n",
    "            f1 = 0\n",
    "        \n",
    "        else:\n",
    "        \n",
    "            f1 = 2 * (precision * recall) / (precision + recall)\n",
    "        \n",
    "        false_positive_rate = fp / (fp + tn)\n",
    "\n",
    "        specificity = tn / (tn + fp)\n",
    "\n",
    "        result.append([j,tn, fp, fn, tp,recall,precision,f1,true_positive_rate,false_positive_rate,specificity])\n",
    "    \n",
    "    result=pd.DataFrame(result)\n",
    "    \n",
    "    result.columns=[\"threshold\",\"tn\", \"fp\", \"fn\", \"tp\",\"recall\", \"precision\", \"f1\", \"true_positive_rate\",\"false_positive_rate\",\"specificity\"]\n",
    "\n",
    "    return(result)\n",
    "\n",
    "    #return [threshold,tn, fp, fn, tp,recall,precision,f1,true_positive_rate,false_positive_rate,specificity]"
   ]
  },
  {
   "cell_type": "code",
   "execution_count": null,
   "metadata": {},
   "outputs": [],
   "source": [
    "roc=threshold_evaluation(Y_predict_proba)\n",
    "roc"
   ]
  },
  {
   "cell_type": "code",
   "execution_count": null,
   "metadata": {},
   "outputs": [],
   "source": [
    "# Plotting the ROC Curve\n",
    "\n",
    "figsize(10, 8)\n",
    "plt.style.use('seaborn-dark-palette')\n",
    "thresholds = [round(t,2) for t in roc['threshold']]\n",
    "plt.plot(roc['false_positive_rate'], roc['true_positive_rate'], 'bo-', label = 'model');\n",
    "plt.plot(list(np.linspace(0, 1, num = 10)), list(np.linspace(0, 1, num = 10)), 'ro--', label = 'naive classifier');\n",
    "for x, y, s in zip(roc['false_positive_rate'], roc['true_positive_rate'], thresholds):\n",
    "    plt.text(x - 0.04,y + 0.02, s, fontdict={'size': 14});\n",
    "\n",
    "plt.legend(prop={'size':14})\n",
    "plt.ylabel('True Positive Rate', size = 16); plt.xlabel('False Positive Rate', size = 16);\n",
    "plt.title('Receiver Operating Characteristic Curve', size = 20);\n",
    "\n",
    "# Finding Area under the ROC Curve\n",
    "\n",
    "print('ROC Score : '+str(roc_auc_score(y_test, lgb.predict_proba(X_test)[0:,1]))) "
   ]
  }
 ],
 "metadata": {
  "kernelspec": {
   "display_name": "Python 3",
   "language": "python",
   "name": "python3"
  },
  "language_info": {
   "codemirror_mode": {
    "name": "ipython",
    "version": 3
   },
   "file_extension": ".py",
   "mimetype": "text/x-python",
   "name": "python",
   "nbconvert_exporter": "python",
   "pygments_lexer": "ipython3",
   "version": "3.8.3"
  }
 },
 "nbformat": 4,
 "nbformat_minor": 4
}
